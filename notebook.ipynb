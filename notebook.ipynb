{
 "cells": [
  {
   "cell_type": "code",
   "execution_count": 1,
   "id": "1b738a2e-8d8b-492d-bcca-bf2328da701f",
   "metadata": {},
   "outputs": [],
   "source": [
    "# import libraries\n",
    "import pandas as pd\n",
    "import numpy as np\n",
    "import seaborn as sns\n",
    "import matplotlib.pyplot as plt"
   ]
  },
  {
   "cell_type": "code",
   "execution_count": 2,
   "id": "3a3611c9-51b2-47cc-a6a2-9281b1cea563",
   "metadata": {},
   "outputs": [],
   "source": [
    "# read csv\n",
    "df=pd.read_csv(\"pet_sales.csv\")"
   ]
  },
  {
   "cell_type": "markdown",
   "id": "d1b1a012-1ccb-40e7-a1ad-77b60b256690",
   "metadata": {
    "tags": []
   },
   "source": [
    "## Data Validation\n",
    "\n",
    "After an exploratory data analysis, I validated the data based on my findings and the provided data dictionary:\n",
    "1. First, I changed the values of the Product ID column to strings of characters using the astype() method. \n",
    "2. Next, I removed the special characters in the Sales column using the str.replace() function and changed the values to numeric using the pd.to_numeric() method. \n",
    "3. Then, I examined the unique values of the remaining columns. \n",
    "4. I dropped rows that indicate other pet types not included in the analysis using the drop() method. \n",
    "5. Lastly, I employed the astype() method to change the values of the Rebuy column to binary and mapped the True/False values to 1/0."
   ]
  },
  {
   "cell_type": "code",
   "execution_count": 3,
   "id": "c9cd2807-83ff-4fe3-a21e-087cf5b3cc1b",
   "metadata": {},
   "outputs": [
    {
     "data": {
      "text/html": [
       "<div>\n",
       "<style scoped>\n",
       "    .dataframe tbody tr th:only-of-type {\n",
       "        vertical-align: middle;\n",
       "    }\n",
       "\n",
       "    .dataframe tbody tr th {\n",
       "        vertical-align: top;\n",
       "    }\n",
       "\n",
       "    .dataframe thead th {\n",
       "        text-align: right;\n",
       "    }\n",
       "</style>\n",
       "<table border=\"1\" class=\"dataframe\">\n",
       "  <thead>\n",
       "    <tr style=\"text-align: right;\">\n",
       "      <th></th>\n",
       "      <th>product_id</th>\n",
       "      <th>product_category</th>\n",
       "      <th>sales</th>\n",
       "      <th>price</th>\n",
       "      <th>vendor_id</th>\n",
       "      <th>pet_size</th>\n",
       "      <th>pet_type</th>\n",
       "      <th>rating</th>\n",
       "      <th>re_buy</th>\n",
       "    </tr>\n",
       "  </thead>\n",
       "  <tbody>\n",
       "    <tr>\n",
       "      <th>0</th>\n",
       "      <td>5040</td>\n",
       "      <td>Equipment</td>\n",
       "      <td>$123,000</td>\n",
       "      <td>94.81</td>\n",
       "      <td>VC_1605</td>\n",
       "      <td>small</td>\n",
       "      <td>fish</td>\n",
       "      <td>7</td>\n",
       "      <td>1</td>\n",
       "    </tr>\n",
       "    <tr>\n",
       "      <th>1</th>\n",
       "      <td>4567</td>\n",
       "      <td>Toys</td>\n",
       "      <td>$61,000</td>\n",
       "      <td>120.95</td>\n",
       "      <td>VC_1132</td>\n",
       "      <td>small</td>\n",
       "      <td>cat</td>\n",
       "      <td>10</td>\n",
       "      <td>0</td>\n",
       "    </tr>\n",
       "    <tr>\n",
       "      <th>2</th>\n",
       "      <td>4237</td>\n",
       "      <td>Toys</td>\n",
       "      <td>$218,000</td>\n",
       "      <td>106.34</td>\n",
       "      <td>VC_802</td>\n",
       "      <td>small</td>\n",
       "      <td>hamster</td>\n",
       "      <td>6</td>\n",
       "      <td>0</td>\n",
       "    </tr>\n",
       "    <tr>\n",
       "      <th>3</th>\n",
       "      <td>4364</td>\n",
       "      <td>Snack</td>\n",
       "      <td>$69,000</td>\n",
       "      <td>241.27</td>\n",
       "      <td>VC_929</td>\n",
       "      <td>large</td>\n",
       "      <td>dog</td>\n",
       "      <td>1</td>\n",
       "      <td>1</td>\n",
       "    </tr>\n",
       "    <tr>\n",
       "      <th>4</th>\n",
       "      <td>4184</td>\n",
       "      <td>Supplements</td>\n",
       "      <td>$138,000</td>\n",
       "      <td>133.68</td>\n",
       "      <td>VC_749</td>\n",
       "      <td>large</td>\n",
       "      <td>dog</td>\n",
       "      <td>10</td>\n",
       "      <td>0</td>\n",
       "    </tr>\n",
       "  </tbody>\n",
       "</table>\n",
       "</div>"
      ],
      "text/plain": [
       "   product_id product_category     sales   price vendor_id pet_size pet_type  \\\n",
       "0        5040        Equipment  $123,000   94.81   VC_1605    small     fish   \n",
       "1        4567             Toys   $61,000  120.95   VC_1132    small      cat   \n",
       "2        4237             Toys  $218,000  106.34    VC_802    small  hamster   \n",
       "3        4364            Snack   $69,000  241.27    VC_929    large      dog   \n",
       "4        4184      Supplements  $138,000  133.68    VC_749    large      dog   \n",
       "\n",
       "   rating  re_buy  \n",
       "0       7       1  \n",
       "1      10       0  \n",
       "2       6       0  \n",
       "3       1       1  \n",
       "4      10       0  "
      ]
     },
     "execution_count": 3,
     "metadata": {},
     "output_type": "execute_result"
    }
   ],
   "source": [
    "# eda\n",
    "df.head()"
   ]
  },
  {
   "cell_type": "code",
   "execution_count": 4,
   "id": "12a901e7-bb7e-431d-abcd-46d56112234b",
   "metadata": {},
   "outputs": [
    {
     "name": "stdout",
     "output_type": "stream",
     "text": [
      "<class 'pandas.core.frame.DataFrame'>\n",
      "RangeIndex: 879 entries, 0 to 878\n",
      "Data columns (total 9 columns):\n",
      " #   Column            Non-Null Count  Dtype  \n",
      "---  ------            --------------  -----  \n",
      " 0   product_id        879 non-null    int64  \n",
      " 1   product_category  879 non-null    object \n",
      " 2   sales             879 non-null    object \n",
      " 3   price             879 non-null    float64\n",
      " 4   vendor_id         879 non-null    object \n",
      " 5   pet_size          879 non-null    object \n",
      " 6   pet_type          879 non-null    object \n",
      " 7   rating            879 non-null    int64  \n",
      " 8   re_buy            879 non-null    int64  \n",
      "dtypes: float64(1), int64(3), object(5)\n",
      "memory usage: 61.9+ KB\n"
     ]
    }
   ],
   "source": [
    "df.info()"
   ]
  },
  {
   "cell_type": "code",
   "execution_count": 5,
   "id": "2bb0c164-5e56-427e-8296-ff86efcfc1b2",
   "metadata": {},
   "outputs": [],
   "source": [
    "# change product_id from numeric (int) to character (obj)\n",
    "df['product_id'] = df['product_id'].astype(str)"
   ]
  },
  {
   "cell_type": "code",
   "execution_count": 6,
   "id": "8bfefb24-351d-4697-9fce-270830346a60",
   "metadata": {},
   "outputs": [
    {
     "data": {
      "text/plain": [
       "product_id           object\n",
       "product_category     object\n",
       "sales                object\n",
       "price               float64\n",
       "vendor_id            object\n",
       "pet_size             object\n",
       "pet_type             object\n",
       "rating                int64\n",
       "re_buy                int64\n",
       "dtype: object"
      ]
     },
     "execution_count": 6,
     "metadata": {},
     "output_type": "execute_result"
    }
   ],
   "source": [
    "# check \n",
    "df.dtypes"
   ]
  },
  {
   "cell_type": "code",
   "execution_count": 7,
   "id": "5a278919-1c81-4c25-a77a-4101708ce2d8",
   "metadata": {},
   "outputs": [
    {
     "name": "stderr",
     "output_type": "stream",
     "text": [
      "C:\\Users\\elain\\AppData\\Local\\Temp/ipykernel_16620/706457411.py:2: FutureWarning: The default value of regex will change from True to False in a future version. In addition, single character regular expressions will *not* be treated as literal strings when regex=True.\n",
      "  df['sales'] = df['sales'].str.replace('$','').str.replace(',','')\n"
     ]
    }
   ],
   "source": [
    "# remove characters from sales\n",
    "df['sales'] = df['sales'].str.replace('$','').str.replace(',','')"
   ]
  },
  {
   "cell_type": "code",
   "execution_count": 8,
   "id": "859fc975-be7a-43ad-b0d7-f9beafe5479e",
   "metadata": {},
   "outputs": [
    {
     "data": {
      "text/html": [
       "<div>\n",
       "<style scoped>\n",
       "    .dataframe tbody tr th:only-of-type {\n",
       "        vertical-align: middle;\n",
       "    }\n",
       "\n",
       "    .dataframe tbody tr th {\n",
       "        vertical-align: top;\n",
       "    }\n",
       "\n",
       "    .dataframe thead th {\n",
       "        text-align: right;\n",
       "    }\n",
       "</style>\n",
       "<table border=\"1\" class=\"dataframe\">\n",
       "  <thead>\n",
       "    <tr style=\"text-align: right;\">\n",
       "      <th></th>\n",
       "      <th>product_id</th>\n",
       "      <th>product_category</th>\n",
       "      <th>sales</th>\n",
       "      <th>price</th>\n",
       "      <th>vendor_id</th>\n",
       "      <th>pet_size</th>\n",
       "      <th>pet_type</th>\n",
       "      <th>rating</th>\n",
       "      <th>re_buy</th>\n",
       "    </tr>\n",
       "  </thead>\n",
       "  <tbody>\n",
       "    <tr>\n",
       "      <th>0</th>\n",
       "      <td>5040</td>\n",
       "      <td>Equipment</td>\n",
       "      <td>123000</td>\n",
       "      <td>94.81</td>\n",
       "      <td>VC_1605</td>\n",
       "      <td>small</td>\n",
       "      <td>fish</td>\n",
       "      <td>7</td>\n",
       "      <td>1</td>\n",
       "    </tr>\n",
       "    <tr>\n",
       "      <th>1</th>\n",
       "      <td>4567</td>\n",
       "      <td>Toys</td>\n",
       "      <td>61000</td>\n",
       "      <td>120.95</td>\n",
       "      <td>VC_1132</td>\n",
       "      <td>small</td>\n",
       "      <td>cat</td>\n",
       "      <td>10</td>\n",
       "      <td>0</td>\n",
       "    </tr>\n",
       "    <tr>\n",
       "      <th>2</th>\n",
       "      <td>4237</td>\n",
       "      <td>Toys</td>\n",
       "      <td>218000</td>\n",
       "      <td>106.34</td>\n",
       "      <td>VC_802</td>\n",
       "      <td>small</td>\n",
       "      <td>hamster</td>\n",
       "      <td>6</td>\n",
       "      <td>0</td>\n",
       "    </tr>\n",
       "    <tr>\n",
       "      <th>3</th>\n",
       "      <td>4364</td>\n",
       "      <td>Snack</td>\n",
       "      <td>69000</td>\n",
       "      <td>241.27</td>\n",
       "      <td>VC_929</td>\n",
       "      <td>large</td>\n",
       "      <td>dog</td>\n",
       "      <td>1</td>\n",
       "      <td>1</td>\n",
       "    </tr>\n",
       "    <tr>\n",
       "      <th>4</th>\n",
       "      <td>4184</td>\n",
       "      <td>Supplements</td>\n",
       "      <td>138000</td>\n",
       "      <td>133.68</td>\n",
       "      <td>VC_749</td>\n",
       "      <td>large</td>\n",
       "      <td>dog</td>\n",
       "      <td>10</td>\n",
       "      <td>0</td>\n",
       "    </tr>\n",
       "  </tbody>\n",
       "</table>\n",
       "</div>"
      ],
      "text/plain": [
       "  product_id product_category   sales   price vendor_id pet_size pet_type  \\\n",
       "0       5040        Equipment  123000   94.81   VC_1605    small     fish   \n",
       "1       4567             Toys   61000  120.95   VC_1132    small      cat   \n",
       "2       4237             Toys  218000  106.34    VC_802    small  hamster   \n",
       "3       4364            Snack   69000  241.27    VC_929    large      dog   \n",
       "4       4184      Supplements  138000  133.68    VC_749    large      dog   \n",
       "\n",
       "   rating  re_buy  \n",
       "0       7       1  \n",
       "1      10       0  \n",
       "2       6       0  \n",
       "3       1       1  \n",
       "4      10       0  "
      ]
     },
     "execution_count": 8,
     "metadata": {},
     "output_type": "execute_result"
    }
   ],
   "source": [
    "# check\n",
    "df.head()"
   ]
  },
  {
   "cell_type": "code",
   "execution_count": 9,
   "id": "78dadd09-270e-484e-b947-b954041fa089",
   "metadata": {},
   "outputs": [],
   "source": [
    "# change sales from obj to numeric\n",
    "df['sales'] = pd.to_numeric(df['sales'])"
   ]
  },
  {
   "cell_type": "code",
   "execution_count": 10,
   "id": "39ef4b6d-6000-49fe-9b92-179b3601d254",
   "metadata": {},
   "outputs": [
    {
     "data": {
      "text/plain": [
       "product_id           object\n",
       "product_category     object\n",
       "sales                 int64\n",
       "price               float64\n",
       "vendor_id            object\n",
       "pet_size             object\n",
       "pet_type             object\n",
       "rating                int64\n",
       "re_buy                int64\n",
       "dtype: object"
      ]
     },
     "execution_count": 10,
     "metadata": {},
     "output_type": "execute_result"
    }
   ],
   "source": [
    "# check\n",
    "df.dtypes"
   ]
  },
  {
   "cell_type": "code",
   "execution_count": 11,
   "id": "047dda39-e091-46cb-a9d9-df0ab654f865",
   "metadata": {},
   "outputs": [
    {
     "data": {
      "text/plain": [
       "array(['small', 'large', 'extra_small', 'medium', 'extra_large'],\n",
       "      dtype=object)"
      ]
     },
     "execution_count": 11,
     "metadata": {},
     "output_type": "execute_result"
    }
   ],
   "source": [
    "# list pet_size values\n",
    "df['pet_size'].unique()"
   ]
  },
  {
   "cell_type": "code",
   "execution_count": 12,
   "id": "9fc936e0-85a2-41dd-b8b9-d063f7e55cb3",
   "metadata": {},
   "outputs": [
    {
     "data": {
      "text/plain": [
       "array(['fish', 'cat', 'hamster', 'dog', 'bird', 'rabbit'], dtype=object)"
      ]
     },
     "execution_count": 12,
     "metadata": {},
     "output_type": "execute_result"
    }
   ],
   "source": [
    "# list pet_types values\n",
    "df['pet_type'].unique()"
   ]
  },
  {
   "cell_type": "code",
   "execution_count": 13,
   "id": "04265653-1cf4-4fda-822e-12cb2baad770",
   "metadata": {},
   "outputs": [],
   "source": [
    "# drop rows that are not \"cat” ,“dog”, “fish”, “bird”\n",
    "df.drop(df[(df['pet_type'] =='hamster') | (df['pet_type'] =='rabbit')].index, inplace=True)"
   ]
  },
  {
   "cell_type": "code",
   "execution_count": 14,
   "id": "0bdb57a0-12af-40e8-b09e-7faf36e29d9c",
   "metadata": {},
   "outputs": [
    {
     "data": {
      "text/plain": [
       "array(['fish', 'cat', 'dog', 'bird'], dtype=object)"
      ]
     },
     "execution_count": 14,
     "metadata": {},
     "output_type": "execute_result"
    }
   ],
   "source": [
    "# check\n",
    "df['pet_type'].unique()"
   ]
  },
  {
   "cell_type": "code",
   "execution_count": 15,
   "id": "055b8122-d7fe-46ab-b4f0-6bcc0ba4564a",
   "metadata": {},
   "outputs": [
    {
     "data": {
      "text/plain": [
       "array([ 7, 10,  1,  8,  9,  3,  6,  5,  4,  2], dtype=int64)"
      ]
     },
     "execution_count": 15,
     "metadata": {},
     "output_type": "execute_result"
    }
   ],
   "source": [
    "# list ratings - are they all <= 10?\n",
    "df['rating'].unique()"
   ]
  },
  {
   "cell_type": "code",
   "execution_count": 16,
   "id": "c2392fc1-3d8c-45e3-b85b-f82c017b80ee",
   "metadata": {},
   "outputs": [
    {
     "data": {
      "text/plain": [
       "array([1, 0], dtype=int64)"
      ]
     },
     "execution_count": 16,
     "metadata": {},
     "output_type": "execute_result"
    }
   ],
   "source": [
    "# check rebuy column\n",
    "df['re_buy'].unique()"
   ]
  },
  {
   "cell_type": "code",
   "execution_count": 17,
   "id": "cb993acd-c513-418b-91a8-2d31b81d0dbd",
   "metadata": {},
   "outputs": [],
   "source": [
    "# change rebuy from int to bool\n",
    "df['re_buy']= df['re_buy'].astype('bool')"
   ]
  },
  {
   "cell_type": "code",
   "execution_count": 18,
   "id": "1ced02eb-b9f5-4b1f-9ca4-ba21e19492e1",
   "metadata": {},
   "outputs": [
    {
     "data": {
      "text/plain": [
       "product_id           object\n",
       "product_category     object\n",
       "sales                 int64\n",
       "price               float64\n",
       "vendor_id            object\n",
       "pet_size             object\n",
       "pet_type             object\n",
       "rating                int64\n",
       "re_buy                 bool\n",
       "dtype: object"
      ]
     },
     "execution_count": 18,
     "metadata": {},
     "output_type": "execute_result"
    }
   ],
   "source": [
    "# check\n",
    "df.dtypes"
   ]
  },
  {
   "cell_type": "code",
   "execution_count": 19,
   "id": "067c4983-2604-4af5-9a4c-fa97ca00d601",
   "metadata": {},
   "outputs": [
    {
     "data": {
      "text/html": [
       "<div>\n",
       "<style scoped>\n",
       "    .dataframe tbody tr th:only-of-type {\n",
       "        vertical-align: middle;\n",
       "    }\n",
       "\n",
       "    .dataframe tbody tr th {\n",
       "        vertical-align: top;\n",
       "    }\n",
       "\n",
       "    .dataframe thead th {\n",
       "        text-align: right;\n",
       "    }\n",
       "</style>\n",
       "<table border=\"1\" class=\"dataframe\">\n",
       "  <thead>\n",
       "    <tr style=\"text-align: right;\">\n",
       "      <th></th>\n",
       "      <th>product_id</th>\n",
       "      <th>product_category</th>\n",
       "      <th>sales</th>\n",
       "      <th>price</th>\n",
       "      <th>vendor_id</th>\n",
       "      <th>pet_size</th>\n",
       "      <th>pet_type</th>\n",
       "      <th>rating</th>\n",
       "      <th>re_buy</th>\n",
       "    </tr>\n",
       "  </thead>\n",
       "  <tbody>\n",
       "    <tr>\n",
       "      <th>0</th>\n",
       "      <td>5040</td>\n",
       "      <td>Equipment</td>\n",
       "      <td>123000</td>\n",
       "      <td>94.81</td>\n",
       "      <td>VC_1605</td>\n",
       "      <td>small</td>\n",
       "      <td>fish</td>\n",
       "      <td>7</td>\n",
       "      <td>True</td>\n",
       "    </tr>\n",
       "    <tr>\n",
       "      <th>1</th>\n",
       "      <td>4567</td>\n",
       "      <td>Toys</td>\n",
       "      <td>61000</td>\n",
       "      <td>120.95</td>\n",
       "      <td>VC_1132</td>\n",
       "      <td>small</td>\n",
       "      <td>cat</td>\n",
       "      <td>10</td>\n",
       "      <td>False</td>\n",
       "    </tr>\n",
       "    <tr>\n",
       "      <th>3</th>\n",
       "      <td>4364</td>\n",
       "      <td>Snack</td>\n",
       "      <td>69000</td>\n",
       "      <td>241.27</td>\n",
       "      <td>VC_929</td>\n",
       "      <td>large</td>\n",
       "      <td>dog</td>\n",
       "      <td>1</td>\n",
       "      <td>True</td>\n",
       "    </tr>\n",
       "    <tr>\n",
       "      <th>4</th>\n",
       "      <td>4184</td>\n",
       "      <td>Supplements</td>\n",
       "      <td>138000</td>\n",
       "      <td>133.68</td>\n",
       "      <td>VC_749</td>\n",
       "      <td>large</td>\n",
       "      <td>dog</td>\n",
       "      <td>10</td>\n",
       "      <td>False</td>\n",
       "    </tr>\n",
       "    <tr>\n",
       "      <th>5</th>\n",
       "      <td>4609</td>\n",
       "      <td>Bedding</td>\n",
       "      <td>183000</td>\n",
       "      <td>51.60</td>\n",
       "      <td>VC_1174</td>\n",
       "      <td>large</td>\n",
       "      <td>cat</td>\n",
       "      <td>10</td>\n",
       "      <td>False</td>\n",
       "    </tr>\n",
       "  </tbody>\n",
       "</table>\n",
       "</div>"
      ],
      "text/plain": [
       "  product_id product_category   sales   price vendor_id pet_size pet_type  \\\n",
       "0       5040        Equipment  123000   94.81   VC_1605    small     fish   \n",
       "1       4567             Toys   61000  120.95   VC_1132    small      cat   \n",
       "3       4364            Snack   69000  241.27    VC_929    large      dog   \n",
       "4       4184      Supplements  138000  133.68    VC_749    large      dog   \n",
       "5       4609          Bedding  183000   51.60   VC_1174    large      cat   \n",
       "\n",
       "   rating  re_buy  \n",
       "0       7    True  \n",
       "1      10   False  \n",
       "3       1    True  \n",
       "4      10   False  \n",
       "5      10   False  "
      ]
     },
     "execution_count": 19,
     "metadata": {},
     "output_type": "execute_result"
    }
   ],
   "source": [
    "df.head()"
   ]
  },
  {
   "cell_type": "code",
   "execution_count": 20,
   "id": "ea443351-ee3d-47ed-85bc-be446dca1440",
   "metadata": {},
   "outputs": [],
   "source": [
    "# map T/F values to 1/0 \n",
    "df.re_buy = df.re_buy.replace({True: 1, False: 0})"
   ]
  },
  {
   "cell_type": "code",
   "execution_count": 21,
   "id": "3aa8265f-d8d9-4728-b9cd-a17b93e39417",
   "metadata": {},
   "outputs": [
    {
     "data": {
      "text/html": [
       "<div>\n",
       "<style scoped>\n",
       "    .dataframe tbody tr th:only-of-type {\n",
       "        vertical-align: middle;\n",
       "    }\n",
       "\n",
       "    .dataframe tbody tr th {\n",
       "        vertical-align: top;\n",
       "    }\n",
       "\n",
       "    .dataframe thead th {\n",
       "        text-align: right;\n",
       "    }\n",
       "</style>\n",
       "<table border=\"1\" class=\"dataframe\">\n",
       "  <thead>\n",
       "    <tr style=\"text-align: right;\">\n",
       "      <th></th>\n",
       "      <th>product_id</th>\n",
       "      <th>product_category</th>\n",
       "      <th>sales</th>\n",
       "      <th>price</th>\n",
       "      <th>vendor_id</th>\n",
       "      <th>pet_size</th>\n",
       "      <th>pet_type</th>\n",
       "      <th>rating</th>\n",
       "      <th>re_buy</th>\n",
       "    </tr>\n",
       "  </thead>\n",
       "  <tbody>\n",
       "    <tr>\n",
       "      <th>0</th>\n",
       "      <td>5040</td>\n",
       "      <td>Equipment</td>\n",
       "      <td>123000</td>\n",
       "      <td>94.81</td>\n",
       "      <td>VC_1605</td>\n",
       "      <td>small</td>\n",
       "      <td>fish</td>\n",
       "      <td>7</td>\n",
       "      <td>1</td>\n",
       "    </tr>\n",
       "    <tr>\n",
       "      <th>1</th>\n",
       "      <td>4567</td>\n",
       "      <td>Toys</td>\n",
       "      <td>61000</td>\n",
       "      <td>120.95</td>\n",
       "      <td>VC_1132</td>\n",
       "      <td>small</td>\n",
       "      <td>cat</td>\n",
       "      <td>10</td>\n",
       "      <td>0</td>\n",
       "    </tr>\n",
       "    <tr>\n",
       "      <th>3</th>\n",
       "      <td>4364</td>\n",
       "      <td>Snack</td>\n",
       "      <td>69000</td>\n",
       "      <td>241.27</td>\n",
       "      <td>VC_929</td>\n",
       "      <td>large</td>\n",
       "      <td>dog</td>\n",
       "      <td>1</td>\n",
       "      <td>1</td>\n",
       "    </tr>\n",
       "    <tr>\n",
       "      <th>4</th>\n",
       "      <td>4184</td>\n",
       "      <td>Supplements</td>\n",
       "      <td>138000</td>\n",
       "      <td>133.68</td>\n",
       "      <td>VC_749</td>\n",
       "      <td>large</td>\n",
       "      <td>dog</td>\n",
       "      <td>10</td>\n",
       "      <td>0</td>\n",
       "    </tr>\n",
       "    <tr>\n",
       "      <th>5</th>\n",
       "      <td>4609</td>\n",
       "      <td>Bedding</td>\n",
       "      <td>183000</td>\n",
       "      <td>51.60</td>\n",
       "      <td>VC_1174</td>\n",
       "      <td>large</td>\n",
       "      <td>cat</td>\n",
       "      <td>10</td>\n",
       "      <td>0</td>\n",
       "    </tr>\n",
       "  </tbody>\n",
       "</table>\n",
       "</div>"
      ],
      "text/plain": [
       "  product_id product_category   sales   price vendor_id pet_size pet_type  \\\n",
       "0       5040        Equipment  123000   94.81   VC_1605    small     fish   \n",
       "1       4567             Toys   61000  120.95   VC_1132    small      cat   \n",
       "3       4364            Snack   69000  241.27    VC_929    large      dog   \n",
       "4       4184      Supplements  138000  133.68    VC_749    large      dog   \n",
       "5       4609          Bedding  183000   51.60   VC_1174    large      cat   \n",
       "\n",
       "   rating  re_buy  \n",
       "0       7       1  \n",
       "1      10       0  \n",
       "3       1       1  \n",
       "4      10       0  \n",
       "5      10       0  "
      ]
     },
     "execution_count": 21,
     "metadata": {},
     "output_type": "execute_result"
    }
   ],
   "source": [
    "# final check\n",
    "df.head()"
   ]
  },
  {
   "cell_type": "markdown",
   "id": "714a7083-7a43-4b0b-8ed4-2675efc87691",
   "metadata": {
    "tags": []
   },
   "source": [
    "## Data Discovery and Visualization\n",
    "\n",
    "My findings include:\n",
    "* The top 3 categories by sales are equipment, snack, and toys - their total is almost half (49%) of the total sales. This is illustrated by the first bar graph.\n",
    "\n",
    "* Similarly, the top 3 repurchased categories are equipment, snack, and toys. Of the 390 repurchased items for dogs, cats, birds, and fish, 18% of repurchased items were equipment, 15% were snacks, and 15% were toys. They make up almost half (48%) of the repurchased times. This is illustrated by the second bar graph.\n",
    "\n",
    "* With a correlation coefficient of 0.98, there is a strong positive correlation between sales and repurchases. Hence, the products being purchased again have better sales than others. This is illustrated by the scatterplot and heatmap.\n",
    "\n",
    "* Although equipment, snack, and toys were commonly repurchased across all pets, medicine was repurchased more than toys for dogs. This is illustrated by m last bar graph. Despite the frequency of medicine repurchases, it would not be a good idea to include medicine in our subscription boxes. Therefore, for all pet boxes, even the dog boxes, snacks, equipment and toys should be included."
   ]
  },
  {
   "cell_type": "code",
   "execution_count": 22,
   "id": "f39dbe40-a7fc-48c4-a4eb-159f8a65f898",
   "metadata": {},
   "outputs": [],
   "source": [
    "# How many products are being purchased more than once? 390\n",
    "# Do the products being purchased again have better sales than others? based on product categories, yes.\n",
    "# What products are more likely to be purchased again for different types of pets? equipment, snacks, and toys. for dogs, medicine was also frequently repurchased."
   ]
  },
  {
   "cell_type": "code",
   "execution_count": 41,
   "id": "5ca73461-b4a2-4413-b2ec-34fb5687231c",
   "metadata": {},
   "outputs": [],
   "source": [
    "# establish context, style, size\n",
    "sns.set_style(\"whitegrid\")\n",
    "sns.set_context(\"notebook\")\n",
    "sns.set(rc={'figure.figsize': (10,5)})"
   ]
  },
  {
   "cell_type": "code",
   "execution_count": 24,
   "id": "f1b391e0-d45a-4362-8b4e-48feb3571fb9",
   "metadata": {},
   "outputs": [
    {
     "data": {
      "text/plain": [
       "96712000"
      ]
     },
     "execution_count": 24,
     "metadata": {},
     "output_type": "execute_result"
    }
   ],
   "source": [
    "# what are the total sales?\n",
    "df['sales'].sum()"
   ]
  },
  {
   "cell_type": "code",
   "execution_count": 25,
   "id": "62b442c5-25b0-457b-9b5c-414d55ac7386",
   "metadata": {},
   "outputs": [
    {
     "data": {
      "text/plain": [
       "product_category\n",
       "Equipment      16347000\n",
       "Snack          15965000\n",
       "Toys           14153000\n",
       "Medicine        8814000\n",
       "Supplements     7966000\n",
       "Food            7449000\n",
       "Accessory       5791000\n",
       "Clothes         5362000\n",
       "Bedding         5236000\n",
       "Grooming        5131000\n",
       "Housing         4498000\n",
       "Name: sales, dtype: int64"
      ]
     },
     "execution_count": 25,
     "metadata": {},
     "output_type": "execute_result"
    }
   ],
   "source": [
    "# which product garners the most sales?\n",
    "sales_by_cat=df.groupby('product_category')['sales'].sum().sort_values(ascending=False)\n",
    "sales_by_cat\n",
    "# top 3 product cat by sales: equipment, snack, toys"
   ]
  },
  {
   "cell_type": "code",
   "execution_count": 26,
   "id": "2edb7449-9226-4c38-befb-598cd4f79c4f",
   "metadata": {},
   "outputs": [
    {
     "data": {
      "text/html": [
       "<div>\n",
       "<style scoped>\n",
       "    .dataframe tbody tr th:only-of-type {\n",
       "        vertical-align: middle;\n",
       "    }\n",
       "\n",
       "    .dataframe tbody tr th {\n",
       "        vertical-align: top;\n",
       "    }\n",
       "\n",
       "    .dataframe thead th {\n",
       "        text-align: right;\n",
       "    }\n",
       "</style>\n",
       "<table border=\"1\" class=\"dataframe\">\n",
       "  <thead>\n",
       "    <tr style=\"text-align: right;\">\n",
       "      <th></th>\n",
       "      <th>product_id</th>\n",
       "      <th>product_category</th>\n",
       "      <th>sales</th>\n",
       "      <th>price</th>\n",
       "      <th>vendor_id</th>\n",
       "      <th>pet_size</th>\n",
       "      <th>pet_type</th>\n",
       "      <th>rating</th>\n",
       "      <th>re_buy</th>\n",
       "      <th>pct_of_sales</th>\n",
       "    </tr>\n",
       "  </thead>\n",
       "  <tbody>\n",
       "    <tr>\n",
       "      <th>0</th>\n",
       "      <td>5040</td>\n",
       "      <td>Equipment</td>\n",
       "      <td>123000</td>\n",
       "      <td>94.81</td>\n",
       "      <td>VC_1605</td>\n",
       "      <td>small</td>\n",
       "      <td>fish</td>\n",
       "      <td>7</td>\n",
       "      <td>1</td>\n",
       "      <td>0.001272</td>\n",
       "    </tr>\n",
       "    <tr>\n",
       "      <th>1</th>\n",
       "      <td>4567</td>\n",
       "      <td>Toys</td>\n",
       "      <td>61000</td>\n",
       "      <td>120.95</td>\n",
       "      <td>VC_1132</td>\n",
       "      <td>small</td>\n",
       "      <td>cat</td>\n",
       "      <td>10</td>\n",
       "      <td>0</td>\n",
       "      <td>0.000631</td>\n",
       "    </tr>\n",
       "    <tr>\n",
       "      <th>3</th>\n",
       "      <td>4364</td>\n",
       "      <td>Snack</td>\n",
       "      <td>69000</td>\n",
       "      <td>241.27</td>\n",
       "      <td>VC_929</td>\n",
       "      <td>large</td>\n",
       "      <td>dog</td>\n",
       "      <td>1</td>\n",
       "      <td>1</td>\n",
       "      <td>0.000713</td>\n",
       "    </tr>\n",
       "    <tr>\n",
       "      <th>4</th>\n",
       "      <td>4184</td>\n",
       "      <td>Supplements</td>\n",
       "      <td>138000</td>\n",
       "      <td>133.68</td>\n",
       "      <td>VC_749</td>\n",
       "      <td>large</td>\n",
       "      <td>dog</td>\n",
       "      <td>10</td>\n",
       "      <td>0</td>\n",
       "      <td>0.001427</td>\n",
       "    </tr>\n",
       "    <tr>\n",
       "      <th>5</th>\n",
       "      <td>4609</td>\n",
       "      <td>Bedding</td>\n",
       "      <td>183000</td>\n",
       "      <td>51.60</td>\n",
       "      <td>VC_1174</td>\n",
       "      <td>large</td>\n",
       "      <td>cat</td>\n",
       "      <td>10</td>\n",
       "      <td>0</td>\n",
       "      <td>0.001892</td>\n",
       "    </tr>\n",
       "    <tr>\n",
       "      <th>...</th>\n",
       "      <td>...</td>\n",
       "      <td>...</td>\n",
       "      <td>...</td>\n",
       "      <td>...</td>\n",
       "      <td>...</td>\n",
       "      <td>...</td>\n",
       "      <td>...</td>\n",
       "      <td>...</td>\n",
       "      <td>...</td>\n",
       "      <td>...</td>\n",
       "    </tr>\n",
       "    <tr>\n",
       "      <th>873</th>\n",
       "      <td>4343</td>\n",
       "      <td>Equipment</td>\n",
       "      <td>212000</td>\n",
       "      <td>129.84</td>\n",
       "      <td>VC_908</td>\n",
       "      <td>medium</td>\n",
       "      <td>cat</td>\n",
       "      <td>10</td>\n",
       "      <td>1</td>\n",
       "      <td>0.002192</td>\n",
       "    </tr>\n",
       "    <tr>\n",
       "      <th>874</th>\n",
       "      <td>4999</td>\n",
       "      <td>Snack</td>\n",
       "      <td>27000</td>\n",
       "      <td>146.93</td>\n",
       "      <td>VC_1564</td>\n",
       "      <td>medium</td>\n",
       "      <td>bird</td>\n",
       "      <td>6</td>\n",
       "      <td>0</td>\n",
       "      <td>0.000279</td>\n",
       "    </tr>\n",
       "    <tr>\n",
       "      <th>876</th>\n",
       "      <td>4783</td>\n",
       "      <td>Snack</td>\n",
       "      <td>162000</td>\n",
       "      <td>224.12</td>\n",
       "      <td>VC_1348</td>\n",
       "      <td>medium</td>\n",
       "      <td>cat</td>\n",
       "      <td>7</td>\n",
       "      <td>1</td>\n",
       "      <td>0.001675</td>\n",
       "    </tr>\n",
       "    <tr>\n",
       "      <th>877</th>\n",
       "      <td>4664</td>\n",
       "      <td>Bedding</td>\n",
       "      <td>34000</td>\n",
       "      <td>199.15</td>\n",
       "      <td>VC_1229</td>\n",
       "      <td>large</td>\n",
       "      <td>dog</td>\n",
       "      <td>10</td>\n",
       "      <td>1</td>\n",
       "      <td>0.000352</td>\n",
       "    </tr>\n",
       "    <tr>\n",
       "      <th>878</th>\n",
       "      <td>4850</td>\n",
       "      <td>Toys</td>\n",
       "      <td>54000</td>\n",
       "      <td>171.85</td>\n",
       "      <td>VC_1415</td>\n",
       "      <td>small</td>\n",
       "      <td>dog</td>\n",
       "      <td>1</td>\n",
       "      <td>1</td>\n",
       "      <td>0.000558</td>\n",
       "    </tr>\n",
       "  </tbody>\n",
       "</table>\n",
       "<p>833 rows × 10 columns</p>\n",
       "</div>"
      ],
      "text/plain": [
       "    product_id product_category   sales   price vendor_id pet_size pet_type  \\\n",
       "0         5040        Equipment  123000   94.81   VC_1605    small     fish   \n",
       "1         4567             Toys   61000  120.95   VC_1132    small      cat   \n",
       "3         4364            Snack   69000  241.27    VC_929    large      dog   \n",
       "4         4184      Supplements  138000  133.68    VC_749    large      dog   \n",
       "5         4609          Bedding  183000   51.60   VC_1174    large      cat   \n",
       "..         ...              ...     ...     ...       ...      ...      ...   \n",
       "873       4343        Equipment  212000  129.84    VC_908   medium      cat   \n",
       "874       4999            Snack   27000  146.93   VC_1564   medium     bird   \n",
       "876       4783            Snack  162000  224.12   VC_1348   medium      cat   \n",
       "877       4664          Bedding   34000  199.15   VC_1229    large      dog   \n",
       "878       4850             Toys   54000  171.85   VC_1415    small      dog   \n",
       "\n",
       "     rating  re_buy  pct_of_sales  \n",
       "0         7       1      0.001272  \n",
       "1        10       0      0.000631  \n",
       "3         1       1      0.000713  \n",
       "4        10       0      0.001427  \n",
       "5        10       0      0.001892  \n",
       "..      ...     ...           ...  \n",
       "873      10       1      0.002192  \n",
       "874       6       0      0.000279  \n",
       "876       7       1      0.001675  \n",
       "877      10       1      0.000352  \n",
       "878       1       1      0.000558  \n",
       "\n",
       "[833 rows x 10 columns]"
      ]
     },
     "execution_count": 26,
     "metadata": {},
     "output_type": "execute_result"
    }
   ],
   "source": [
    "# determine % of sales\n",
    "df['pct_of_sales']=df['sales']/df['sales'].sum()\n",
    "df"
   ]
  },
  {
   "cell_type": "code",
   "execution_count": 27,
   "id": "67093911-3f44-4849-a0d7-14192afd28a4",
   "metadata": {},
   "outputs": [
    {
     "data": {
      "text/plain": [
       "1.0"
      ]
     },
     "execution_count": 27,
     "metadata": {},
     "output_type": "execute_result"
    }
   ],
   "source": [
    "# check % of sales - do they add up to 1?\n",
    "df['pct_of_sales'].sum()"
   ]
  },
  {
   "cell_type": "code",
   "execution_count": 28,
   "id": "34ad5c89-59da-4390-b6d6-1b73c58b735e",
   "metadata": {},
   "outputs": [
    {
     "data": {
      "text/plain": [
       "product_category\n",
       "Equipment      0.169028\n",
       "Snack          0.165078\n",
       "Toys           0.146342\n",
       "Medicine       0.091137\n",
       "Supplements    0.082368\n",
       "Food           0.077022\n",
       "Accessory      0.059879\n",
       "Clothes        0.055443\n",
       "Bedding        0.054140\n",
       "Grooming       0.053054\n",
       "Housing        0.046509\n",
       "Name: pct_of_sales, dtype: float64"
      ]
     },
     "execution_count": 28,
     "metadata": {},
     "output_type": "execute_result"
    }
   ],
   "source": [
    "# what % of total dales does each category represent?\n",
    "sales_pct=df.groupby('product_category')['pct_of_sales'].sum().sort_values(ascending=False)\n",
    "sales_pct\n",
    "# the top 3 categories make up almost 50% of all sales"
   ]
  },
  {
   "cell_type": "code",
   "execution_count": 42,
   "id": "dc8465eb-d4aa-4d7e-9c8e-4196ede51987",
   "metadata": {},
   "outputs": [
    {
     "data": {
      "image/png": "[encoded data removed]",
      "text/plain": [
       "<Figure size 720x360 with 1 Axes>"
      ]
     },
     "metadata": {},
     "output_type": "display_data"
    }
   ],
   "source": [
    "# visualize data in a bar chart\n",
    "ax=sales_by_cat.plot(kind='bar', color=\"chocolate\")\n",
    "plt.title(\"Sales by Category Type\", size=20)\n",
    "plt.xlabel(None)\n",
    "plt.ylabel(\"$\", size=14)\n",
    "ax;"
   ]
  },
  {
   "cell_type": "code",
   "execution_count": 30,
   "id": "615ca505-0199-4ad0-802f-e037d2f3c182",
   "metadata": {},
   "outputs": [
    {
     "data": {
      "text/plain": [
       "390"
      ]
     },
     "execution_count": 30,
     "metadata": {},
     "output_type": "execute_result"
    }
   ],
   "source": [
    "# how many repurchased items are there?\n",
    "df['re_buy'].sum()"
   ]
  },
  {
   "cell_type": "code",
   "execution_count": 31,
   "id": "85017be2-fbc1-4118-a626-d9e1ca05b508",
   "metadata": {},
   "outputs": [],
   "source": [
    "# what products are being repurchased?\n",
    "rebuy_count=df.pivot_table(values='re_buy', index='product_category', aggfunc='sum')"
   ]
  },
  {
   "cell_type": "code",
   "execution_count": 32,
   "id": "fd23873e-5528-4c93-975d-d8c3563cdb09",
   "metadata": {},
   "outputs": [
    {
     "data": {
      "text/html": [
       "<div>\n",
       "<style scoped>\n",
       "    .dataframe tbody tr th:only-of-type {\n",
       "        vertical-align: middle;\n",
       "    }\n",
       "\n",
       "    .dataframe tbody tr th {\n",
       "        vertical-align: top;\n",
       "    }\n",
       "\n",
       "    .dataframe thead th {\n",
       "        text-align: right;\n",
       "    }\n",
       "</style>\n",
       "<table border=\"1\" class=\"dataframe\">\n",
       "  <thead>\n",
       "    <tr style=\"text-align: right;\">\n",
       "      <th></th>\n",
       "      <th>re_buy</th>\n",
       "    </tr>\n",
       "    <tr>\n",
       "      <th>product_category</th>\n",
       "      <th></th>\n",
       "    </tr>\n",
       "  </thead>\n",
       "  <tbody>\n",
       "    <tr>\n",
       "      <th>Equipment</th>\n",
       "      <td>69</td>\n",
       "    </tr>\n",
       "    <tr>\n",
       "      <th>Snack</th>\n",
       "      <td>59</td>\n",
       "    </tr>\n",
       "    <tr>\n",
       "      <th>Toys</th>\n",
       "      <td>58</td>\n",
       "    </tr>\n",
       "    <tr>\n",
       "      <th>Food</th>\n",
       "      <td>37</td>\n",
       "    </tr>\n",
       "    <tr>\n",
       "      <th>Medicine</th>\n",
       "      <td>37</td>\n",
       "    </tr>\n",
       "    <tr>\n",
       "      <th>Supplements</th>\n",
       "      <td>30</td>\n",
       "    </tr>\n",
       "    <tr>\n",
       "      <th>Bedding</th>\n",
       "      <td>24</td>\n",
       "    </tr>\n",
       "    <tr>\n",
       "      <th>Accessory</th>\n",
       "      <td>20</td>\n",
       "    </tr>\n",
       "    <tr>\n",
       "      <th>Housing</th>\n",
       "      <td>20</td>\n",
       "    </tr>\n",
       "    <tr>\n",
       "      <th>Clothes</th>\n",
       "      <td>19</td>\n",
       "    </tr>\n",
       "    <tr>\n",
       "      <th>Grooming</th>\n",
       "      <td>17</td>\n",
       "    </tr>\n",
       "  </tbody>\n",
       "</table>\n",
       "</div>"
      ],
      "text/plain": [
       "                  re_buy\n",
       "product_category        \n",
       "Equipment             69\n",
       "Snack                 59\n",
       "Toys                  58\n",
       "Food                  37\n",
       "Medicine              37\n",
       "Supplements           30\n",
       "Bedding               24\n",
       "Accessory             20\n",
       "Housing               20\n",
       "Clothes               19\n",
       "Grooming              17"
      ]
     },
     "execution_count": 32,
     "metadata": {},
     "output_type": "execute_result"
    }
   ],
   "source": [
    "# order by rebuy count desc\n",
    "rebuy_count_sorted=rebuy_count.sort_values(by='re_buy',ascending=False)\n",
    "rebuy_count_sorted\n",
    "# 18% of repurchased items were equipment, 15% were snacks, and 15% were toys"
   ]
  },
  {
   "cell_type": "code",
   "execution_count": 43,
   "id": "4d0db58d-7e37-403a-94fd-40c38348d86e",
   "metadata": {},
   "outputs": [
    {
     "data": {
      "image/png": "[encoded data removed]",
      "text/plain": [
       "<Figure size 720x360 with 1 Axes>"
      ]
     },
     "metadata": {},
     "output_type": "display_data"
    }
   ],
   "source": [
    "# visualize data in a bar chart\n",
    "ax=rebuy_count_sorted.plot(kind='bar', color=\"sandybrown\")\n",
    "plt.title(\"Repurchases by Category Type\", size=20)\n",
    "plt.xlabel(None)\n",
    "ax.get_legend().remove()\n",
    "ax;"
   ]
  },
  {
   "cell_type": "code",
   "execution_count": 34,
   "id": "2ddc793f-fbc0-4a94-93d2-1f2548defa8f",
   "metadata": {},
   "outputs": [],
   "source": [
    "# compare sales vs repurchases by product category\n",
    "sales_v_rebuy=df.pivot_table(values=['sales','re_buy'], index='product_category', aggfunc='sum')"
   ]
  },
  {
   "cell_type": "code",
   "execution_count": 44,
   "id": "a0ac7f1b-35aa-4ce9-a063-e7f58466e848",
   "metadata": {},
   "outputs": [
    {
     "data": {
      "image/png": "[encoded data removed]",
      "text/plain": [
       "<Figure size 720x360 with 1 Axes>"
      ]
     },
     "metadata": {},
     "output_type": "display_data"
    }
   ],
   "source": [
    "# visualize data in a scatterplot\n",
    "ax=sales_v_rebuy.plot(x='sales', y='re_buy',kind='scatter', color='saddlebrown')\n",
    "plt.title(\"Sales vs. Repurchases\", size=20)\n",
    "plt.xlabel(\"Sales\", size=14)\n",
    "plt.ylabel(\"Repurchases\", size=14)\n",
    "ax;\n",
    "# strong positive correlation"
   ]
  },
  {
   "cell_type": "code",
   "execution_count": 36,
   "id": "594f9284-dfc5-438e-87b8-47045b4df99b",
   "metadata": {},
   "outputs": [
    {
     "data": {
      "text/html": [
       "<div>\n",
       "<style scoped>\n",
       "    .dataframe tbody tr th:only-of-type {\n",
       "        vertical-align: middle;\n",
       "    }\n",
       "\n",
       "    .dataframe tbody tr th {\n",
       "        vertical-align: top;\n",
       "    }\n",
       "\n",
       "    .dataframe thead th {\n",
       "        text-align: right;\n",
       "    }\n",
       "</style>\n",
       "<table border=\"1\" class=\"dataframe\">\n",
       "  <thead>\n",
       "    <tr style=\"text-align: right;\">\n",
       "      <th></th>\n",
       "      <th>sales</th>\n",
       "      <th>re_buy</th>\n",
       "    </tr>\n",
       "  </thead>\n",
       "  <tbody>\n",
       "    <tr>\n",
       "      <th>sales</th>\n",
       "      <td>1.000000</td>\n",
       "      <td>0.979775</td>\n",
       "    </tr>\n",
       "    <tr>\n",
       "      <th>re_buy</th>\n",
       "      <td>0.979775</td>\n",
       "      <td>1.000000</td>\n",
       "    </tr>\n",
       "  </tbody>\n",
       "</table>\n",
       "</div>"
      ],
      "text/plain": [
       "           sales    re_buy\n",
       "sales   1.000000  0.979775\n",
       "re_buy  0.979775  1.000000"
      ]
     },
     "execution_count": 36,
     "metadata": {},
     "output_type": "execute_result"
    }
   ],
   "source": [
    "# create correlation dataframe for a heatmap\n",
    "corr_df = sales_v_rebuy[['sales', 're_buy']].corr()\n",
    "corr_df"
   ]
  },
  {
   "cell_type": "code",
   "execution_count": 45,
   "id": "6968a90c-d43c-4b62-8c26-ef0f40c86c45",
   "metadata": {},
   "outputs": [
    {
     "data": {
      "image/png": "[encoded data removed]",
      "text/plain": [
       "<Figure size 720x360 with 2 Axes>"
      ]
     },
     "metadata": {},
     "output_type": "display_data"
    }
   ],
   "source": [
    "# visualize data in a heatmap\n",
    "col = ['Sales', 'Repurchases']\n",
    "hm = sns.heatmap(corr_df, annot = True, annot_kws = {'size':'50'}, xticklabels = col, yticklabels = col, cmap='Oranges')\n",
    "# correlation coefficient of 0.98 suggests there is a strong positive correlation between sales and repurchases"
   ]
  },
  {
   "cell_type": "code",
   "execution_count": 38,
   "id": "cd485e31-a19b-4405-9222-22e9767f179b",
   "metadata": {},
   "outputs": [],
   "source": [
    "# how do repurchases vary by pet types?\n",
    "rebuy_by_pet=df.pivot_table(values='re_buy', index=['pet_type', 'product_category'], aggfunc='sum')"
   ]
  },
  {
   "cell_type": "code",
   "execution_count": 39,
   "id": "8d3adf83-b323-4784-aec3-3d27caece0e2",
   "metadata": {},
   "outputs": [
    {
     "data": {
      "text/html": [
       "<div>\n",
       "<style scoped>\n",
       "    .dataframe tbody tr th:only-of-type {\n",
       "        vertical-align: middle;\n",
       "    }\n",
       "\n",
       "    .dataframe tbody tr th {\n",
       "        vertical-align: top;\n",
       "    }\n",
       "\n",
       "    .dataframe thead th {\n",
       "        text-align: right;\n",
       "    }\n",
       "</style>\n",
       "<table border=\"1\" class=\"dataframe\">\n",
       "  <thead>\n",
       "    <tr style=\"text-align: right;\">\n",
       "      <th></th>\n",
       "      <th></th>\n",
       "      <th>re_buy</th>\n",
       "    </tr>\n",
       "    <tr>\n",
       "      <th>pet_type</th>\n",
       "      <th>product_category</th>\n",
       "      <th></th>\n",
       "    </tr>\n",
       "  </thead>\n",
       "  <tbody>\n",
       "    <tr>\n",
       "      <th rowspan=\"11\" valign=\"top\">fish</th>\n",
       "      <th>Snack</th>\n",
       "      <td>8</td>\n",
       "    </tr>\n",
       "    <tr>\n",
       "      <th>Equipment</th>\n",
       "      <td>7</td>\n",
       "    </tr>\n",
       "    <tr>\n",
       "      <th>Toys</th>\n",
       "      <td>7</td>\n",
       "    </tr>\n",
       "    <tr>\n",
       "      <th>Housing</th>\n",
       "      <td>2</td>\n",
       "    </tr>\n",
       "    <tr>\n",
       "      <th>Food</th>\n",
       "      <td>1</td>\n",
       "    </tr>\n",
       "    <tr>\n",
       "      <th>Medicine</th>\n",
       "      <td>1</td>\n",
       "    </tr>\n",
       "    <tr>\n",
       "      <th>Supplements</th>\n",
       "      <td>1</td>\n",
       "    </tr>\n",
       "    <tr>\n",
       "      <th>Accessory</th>\n",
       "      <td>0</td>\n",
       "    </tr>\n",
       "    <tr>\n",
       "      <th>Bedding</th>\n",
       "      <td>0</td>\n",
       "    </tr>\n",
       "    <tr>\n",
       "      <th>Clothes</th>\n",
       "      <td>0</td>\n",
       "    </tr>\n",
       "    <tr>\n",
       "      <th>Grooming</th>\n",
       "      <td>0</td>\n",
       "    </tr>\n",
       "    <tr>\n",
       "      <th rowspan=\"11\" valign=\"top\">dog</th>\n",
       "      <th>Equipment</th>\n",
       "      <td>28</td>\n",
       "    </tr>\n",
       "    <tr>\n",
       "      <th>Snack</th>\n",
       "      <td>25</td>\n",
       "    </tr>\n",
       "    <tr>\n",
       "      <th>Medicine</th>\n",
       "      <td>20</td>\n",
       "    </tr>\n",
       "    <tr>\n",
       "      <th>Toys</th>\n",
       "      <td>19</td>\n",
       "    </tr>\n",
       "    <tr>\n",
       "      <th>Food</th>\n",
       "      <td>17</td>\n",
       "    </tr>\n",
       "    <tr>\n",
       "      <th>Bedding</th>\n",
       "      <td>14</td>\n",
       "    </tr>\n",
       "    <tr>\n",
       "      <th>Supplements</th>\n",
       "      <td>11</td>\n",
       "    </tr>\n",
       "    <tr>\n",
       "      <th>Accessory</th>\n",
       "      <td>10</td>\n",
       "    </tr>\n",
       "    <tr>\n",
       "      <th>Grooming</th>\n",
       "      <td>10</td>\n",
       "    </tr>\n",
       "    <tr>\n",
       "      <th>Clothes</th>\n",
       "      <td>8</td>\n",
       "    </tr>\n",
       "    <tr>\n",
       "      <th>Housing</th>\n",
       "      <td>8</td>\n",
       "    </tr>\n",
       "    <tr>\n",
       "      <th rowspan=\"11\" valign=\"top\">cat</th>\n",
       "      <th>Equipment</th>\n",
       "      <td>27</td>\n",
       "    </tr>\n",
       "    <tr>\n",
       "      <th>Toys</th>\n",
       "      <td>25</td>\n",
       "    </tr>\n",
       "    <tr>\n",
       "      <th>Snack</th>\n",
       "      <td>19</td>\n",
       "    </tr>\n",
       "    <tr>\n",
       "      <th>Food</th>\n",
       "      <td>18</td>\n",
       "    </tr>\n",
       "    <tr>\n",
       "      <th>Supplements</th>\n",
       "      <td>17</td>\n",
       "    </tr>\n",
       "    <tr>\n",
       "      <th>Medicine</th>\n",
       "      <td>15</td>\n",
       "    </tr>\n",
       "    <tr>\n",
       "      <th>Clothes</th>\n",
       "      <td>10</td>\n",
       "    </tr>\n",
       "    <tr>\n",
       "      <th>Accessory</th>\n",
       "      <td>9</td>\n",
       "    </tr>\n",
       "    <tr>\n",
       "      <th>Bedding</th>\n",
       "      <td>9</td>\n",
       "    </tr>\n",
       "    <tr>\n",
       "      <th>Housing</th>\n",
       "      <td>9</td>\n",
       "    </tr>\n",
       "    <tr>\n",
       "      <th>Grooming</th>\n",
       "      <td>7</td>\n",
       "    </tr>\n",
       "    <tr>\n",
       "      <th rowspan=\"11\" valign=\"top\">bird</th>\n",
       "      <th>Equipment</th>\n",
       "      <td>7</td>\n",
       "    </tr>\n",
       "    <tr>\n",
       "      <th>Snack</th>\n",
       "      <td>7</td>\n",
       "    </tr>\n",
       "    <tr>\n",
       "      <th>Toys</th>\n",
       "      <td>7</td>\n",
       "    </tr>\n",
       "    <tr>\n",
       "      <th>Accessory</th>\n",
       "      <td>1</td>\n",
       "    </tr>\n",
       "    <tr>\n",
       "      <th>Bedding</th>\n",
       "      <td>1</td>\n",
       "    </tr>\n",
       "    <tr>\n",
       "      <th>Clothes</th>\n",
       "      <td>1</td>\n",
       "    </tr>\n",
       "    <tr>\n",
       "      <th>Food</th>\n",
       "      <td>1</td>\n",
       "    </tr>\n",
       "    <tr>\n",
       "      <th>Housing</th>\n",
       "      <td>1</td>\n",
       "    </tr>\n",
       "    <tr>\n",
       "      <th>Medicine</th>\n",
       "      <td>1</td>\n",
       "    </tr>\n",
       "    <tr>\n",
       "      <th>Supplements</th>\n",
       "      <td>1</td>\n",
       "    </tr>\n",
       "    <tr>\n",
       "      <th>Grooming</th>\n",
       "      <td>0</td>\n",
       "    </tr>\n",
       "  </tbody>\n",
       "</table>\n",
       "</div>"
      ],
      "text/plain": [
       "                           re_buy\n",
       "pet_type product_category        \n",
       "fish     Snack                  8\n",
       "         Equipment              7\n",
       "         Toys                   7\n",
       "         Housing                2\n",
       "         Food                   1\n",
       "         Medicine               1\n",
       "         Supplements            1\n",
       "         Accessory              0\n",
       "         Bedding                0\n",
       "         Clothes                0\n",
       "         Grooming               0\n",
       "dog      Equipment             28\n",
       "         Snack                 25\n",
       "         Medicine              20\n",
       "         Toys                  19\n",
       "         Food                  17\n",
       "         Bedding               14\n",
       "         Supplements           11\n",
       "         Accessory             10\n",
       "         Grooming              10\n",
       "         Clothes                8\n",
       "         Housing                8\n",
       "cat      Equipment             27\n",
       "         Toys                  25\n",
       "         Snack                 19\n",
       "         Food                  18\n",
       "         Supplements           17\n",
       "         Medicine              15\n",
       "         Clothes               10\n",
       "         Accessory              9\n",
       "         Bedding                9\n",
       "         Housing                9\n",
       "         Grooming               7\n",
       "bird     Equipment              7\n",
       "         Snack                  7\n",
       "         Toys                   7\n",
       "         Accessory              1\n",
       "         Bedding                1\n",
       "         Clothes                1\n",
       "         Food                   1\n",
       "         Housing                1\n",
       "         Medicine               1\n",
       "         Supplements            1\n",
       "         Grooming               0"
      ]
     },
     "execution_count": 39,
     "metadata": {},
     "output_type": "execute_result"
    }
   ],
   "source": [
    "# order by rebuy count desc\n",
    "rebuy_by_pet_sorted=rebuy_by_pet.sort_values(by=['pet_type','re_buy'],ascending=False)\n",
    "rebuy_by_pet_sorted\n",
    "# although equipment, snack, and toys were commonly repurchased across all pets, medicine was repurchased more than toys for dogs\n",
    "# despite the frequency of medicine repurchases, it would not be a good idea to include medicine in our subscription boxes\n",
    "# for all pet boxes, even the dog boxes, snacks, equipment and toys should be included"
   ]
  },
  {
   "cell_type": "code",
   "execution_count": 46,
   "id": "bcaff69c-0bbd-4420-a0a7-b1db8fdca238",
   "metadata": {},
   "outputs": [
    {
     "data": {
      "image/png": "[encoded data removed]",
      "text/plain": [
       "<Figure size 720x360 with 1 Axes>"
      ]
     },
     "metadata": {},
     "output_type": "display_data"
    }
   ],
   "source": [
    "# visualize data in a bar graph\n",
    "ax=rebuy_by_pet_sorted.plot(kind='bar', color='sandybrown')\n",
    "plt.title(\"Repurchases by Pet and Category Type\", size=20)\n",
    "plt.xlabel(\"Pet, Category Type\", size=14)\n",
    "ax.get_legend().remove()\n",
    "ax;"
   ]
  },
  {
   "cell_type": "code",
   "execution_count": null,
   "id": "6fc879b6-319a-4854-85e4-9a0165d3c1cf",
   "metadata": {},
   "outputs": [],
   "source": []
  }
 ],
 "metadata": {
  "colab": {
   "name": "Welcome to DataCamp Workspaces.ipynb",
   "provenance": []
  },
  "kernelspec": {
   "display_name": "Python 3 (ipykernel)",
   "language": "python",
   "name": "python3"
  },
  "language_info": {
   "codemirror_mode": {
    "name": "ipython",
    "version": 3
   },
   "file_extension": ".py",
   "mimetype": "text/x-python",
   "name": "python",
   "nbconvert_exporter": "python",
   "pygments_lexer": "ipython3",
   "version": "3.9.7"
  }
 },
 "nbformat": 4,
 "nbformat_minor": 5
}
